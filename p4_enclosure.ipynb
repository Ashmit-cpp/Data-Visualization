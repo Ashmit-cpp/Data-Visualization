{
 "cells": [
  {
   "cell_type": "code",
   "execution_count": 4,
   "metadata": {},
   "outputs": [],
   "source": [
    "\n",
    "import json\n",
    "import networkx as nx\n",
    "#from networkx import graphviz_layout\n",
    "import matplotlib.pyplot as plt\n",
    "from matplotlib.pyplot import figure\n",
    "import matplotlib.cm as cm\n",
    "\n",
    "from sklearn.preprocessing import normalize\n",
    "from matplotlib.widgets import Button\n",
    "from matplotlib.patches import Rectangle\n",
    "from matplotlib.patches import Circle\n",
    "from matplotlib.patches import Wedge\n",
    "\n",
    "import pandas as pd\n",
    "import plotly.graph_objects as go\n",
    "\n",
    "import ipywidgets as widgets\n",
    "import plotly.offline as py\n",
    "import plotly.graph_objs as go\n",
    "import pandas as pd"
   ]
  },
  {
   "cell_type": "code",
   "execution_count": 5,
   "metadata": {},
   "outputs": [],
   "source": [
    "with open('flare.json') as f:\n",
    "    js_data = json.loads(f.read())"
   ]
  },
  {
   "cell_type": "code",
   "execution_count": 7,
   "metadata": {},
   "outputs": [
    {
     "data": {
      "application/vnd.jupyter.widget-view+json": {
       "model_id": "1d2bfdb882694426a8a50ff793893e51",
       "version_major": 2,
       "version_minor": 0
      },
      "text/plain": [
       "interactive(children=(IntSlider(value=2, description='sliderVal', max=5), Output()), _dom_classes=('widget-int…"
      ]
     },
     "metadata": {},
     "output_type": "display_data"
    },
    {
     "data": {
      "text/plain": [
       "<function __main__.update(sliderVal)>"
      ]
     },
     "execution_count": 7,
     "metadata": {},
     "output_type": "execute_result"
    }
   ],
   "source": [
    "from sklearn.preprocessing import normalize\n",
    "from anytree import Node, RenderTree, AsciiStyle, PreOrderIter, PostOrderIter\n",
    "from anytree.importer import DictImporter\n",
    "\n",
    "importer = DictImporter()\n",
    "root = importer.import_(js_data )\n",
    "\n",
    "children_curr = [root]\n",
    "cols = {}\n",
    "for j in children_curr:\n",
    "    #print('y',j)\n",
    "    c = 0\n",
    "    for i in PostOrderIter(j):\n",
    "        try :\n",
    "            c += i.value\n",
    "        except AttributeError:\n",
    "            continue\n",
    "    cols[j.name] = c\n",
    "    try:\n",
    "        #print((list(j.children)))\n",
    "        children_curr+=(list(j.children))\n",
    "    except:\n",
    "        continue\n",
    "\n",
    "node_lis = []\n",
    "edge_lis = []\n",
    "col_lis = []\n",
    "\n",
    "\n",
    "#adds nodes vals and edge vals to lists for network\n",
    "def parse_json(parent, data):\n",
    "    curr = parent\n",
    "    if curr != None:\n",
    "        edge_lis.append((parent, data['name']))\n",
    "   \n",
    "    col_lis.append(cols[data['name']])\n",
    "    node_lis.append(data['name'])\n",
    "    if 'children' in data:\n",
    "        for i in data['children']:\n",
    "            parse_json(data['name'],i)\n",
    "        \n",
    "    else:\n",
    "        return\n",
    "  \n",
    "parse_json(None, js_data)\n",
    "\n",
    "\n",
    "G = nx.DiGraph()\n",
    "G.add_nodes_from(node_lis)\n",
    "G.add_edges_from(edge_lis)\n",
    "\n",
    "\n",
    "\n",
    "sh = nx.shortest_path_length(G, 'flare')\n",
    "\n",
    "\n",
    "\n",
    "data = {'parent':[None], 'name': [\"flare\"], 'value':[cols['flare']]}\n",
    "lvl = []\n",
    "\n",
    "parent1 =[]\n",
    "name = []\n",
    "value = []\n",
    "def parse_json14(parent, data):\n",
    " \n",
    "    parent1.append(parent)\n",
    "    name.append(data.name)\n",
    "    value.append(cols[data.name])\n",
    "    lvl.append(sh[data.name])\n",
    "   \n",
    " \n",
    "    if len(data.children) != 0:\n",
    "        for i in data.children:\n",
    "            parse_json14(data.name,i)\n",
    "        \n",
    "    else:\n",
    "        return\n",
    "\n",
    "parse_json14(None, root)\n",
    "\n",
    "\n",
    "df = pd.DataFrame()\n",
    "df['parent'] = parent1\n",
    "df['name'] = name\n",
    "df['value']= value\n",
    "df['level'] = lvl\n",
    "\n",
    "def update(sliderVal):\n",
    "    fig = go.Figure()\n",
    "    fig.add_trace(go.Treemap(\n",
    "        labels = df[df['level']<sliderVal]['name'],\n",
    "        values = df[df['level']<sliderVal]['value'],\n",
    "        parents = df[df['level']<sliderVal]['parent'],\n",
    "        marker_colorscale = 'RdBu'\n",
    "        \n",
    "        \n",
    "    ))\n",
    "\n",
    "    fig.show()\n",
    "\n",
    "    \n",
    "\n",
    "\n",
    "\n",
    "#fig.update_layout(margin = dict(t=50, l=25, r=25, b=25))\n",
    "widgets.interact(update, sliderVal = (0, 5))\n",
    "\n",
    "\n"
   ]
  },
  {
   "cell_type": "code",
   "execution_count": null,
   "metadata": {},
   "outputs": [],
   "source": []
  }
 ],
 "metadata": {
  "kernelspec": {
   "display_name": "Python 3",
   "language": "python",
   "name": "python3"
  },
  "language_info": {
   "codemirror_mode": {
    "name": "ipython",
    "version": 3
   },
   "file_extension": ".py",
   "mimetype": "text/x-python",
   "name": "python",
   "nbconvert_exporter": "python",
   "pygments_lexer": "ipython3",
   "version": "3.7.3"
  }
 },
 "nbformat": 4,
 "nbformat_minor": 2
}
