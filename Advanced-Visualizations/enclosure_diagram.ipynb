{
  "nbformat": 4,
  "nbformat_minor": 0,
  "metadata": {
    "colab": {
      "name": "enclosure_diagram.ipynb",
      "provenance": []
    },
    "kernelspec": {
      "name": "python3",
      "display_name": "Python 3"
    },
    "language_info": {
      "name": "python"
    }
  },
  "cells": [
    {
      "cell_type": "code",
      "execution_count": null,
      "metadata": {
        "id": "vV4YsrRQB5OP"
      },
      "outputs": [],
      "source": [
        "#import statements\n",
        "import json\n",
        "import ipywidgets as widgets\n",
        "import plotly\n",
        "import pandas as pd\n",
        "!pip install anytree\n",
        "from anytree import PostOrderIter\n",
        "from anytree.importer import DictImporter\n"
      ]
    },
    {
      "cell_type": "code",
      "source": [
        "#read file\n",
        "with open('flare.json') as f:\n",
        "    js_data = json.loads(f.read())"
      ],
      "metadata": {
        "id": "zazrmX85B-FI"
      },
      "execution_count": null,
      "outputs": []
    },
    {
      "cell_type": "code",
      "source": [
        "#imports dictonary in a tree form\n",
        "importer = DictImporter()\n",
        "root = importer.import_(js_data)\n",
        "\n",
        "\n",
        "size = []\n",
        "name = []\n",
        "parent = []\n",
        "level = []\n",
        "\n",
        "def format(node):\n",
        "  for i in node.children:\n",
        "    #check if node as attribute value\n",
        "    if hasattr(i, 'value') == False:\n",
        "      format(i)\n",
        "    v = i.value\n",
        "    #check if node parent as attribute value\n",
        "    if hasattr(i.parent, 'value'):\n",
        "      i.parent.value += v\n",
        "    #if node parent doesn't have a value set to same val as child\n",
        "    elif hasattr(i.parent, 'value')== False:\n",
        "      i.parent.value = v\n",
        "\n",
        "    level.append(len(i.ancestors))\n",
        "    name.append(i.name)\n",
        "    parent.append(i.parent.name)\n",
        "    size.append(i.value)\n",
        "    \n",
        "format(root)\n",
        "\n",
        "#append attributes for root\n",
        "level.append(0)\n",
        "name.append(root.name)\n",
        "parent.append(\"\")\n",
        "size.append(root.value)\n",
        "\n",
        "#create df\n",
        "df = pd.DataFrame()\n",
        "df['parent'] = parent\n",
        "df['name'] = name\n",
        "df['value']= size\n",
        "df['level'] = level\n",
        "\n",
        "#slider funtion\n",
        "def update(sliderVal):\n",
        "  fig = plotly.graph_objs.Figure()\n",
        "  fig.add_trace(plotly.graph_objs.Treemap(\n",
        "      labels = df[df['level']<sliderVal]['name'],\n",
        "      values = df[df['level']<sliderVal]['value'],\n",
        "      parents = df[df['level']<sliderVal]['parent']  \n",
        "  ))\n",
        "  fig.update_traces(root_color=\"#f1f1f1\")\n",
        "  fig.update_layout(width = 900, height = 900)\n",
        "  fig.show()\n",
        "\n",
        "#create slider widget\n",
        "widgets.interact(update, sliderVal = (0, 5))"
      ],
      "metadata": {
        "id": "NF5fp60tB61G"
      },
      "execution_count": null,
      "outputs": []
    }
  ]
}